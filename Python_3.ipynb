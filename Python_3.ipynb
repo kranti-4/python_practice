{
 "cells": [
  {
   "cell_type": "code",
   "execution_count": 2,
   "metadata": {},
   "outputs": [
    {
     "data": {
      "text/plain": [
       "'C:\\\\Users\\\\krant'"
      ]
     },
     "execution_count": 2,
     "metadata": {},
     "output_type": "execute_result"
    }
   ],
   "source": [
    "pwd\n"
   ]
  },
  {
   "cell_type": "code",
   "execution_count": 12,
   "metadata": {},
   "outputs": [
    {
     "name": "stdout",
     "output_type": "stream",
     "text": [
      "lstrip(): Python \n",
      " Python\n",
      "Python\n"
     ]
    }
   ],
   "source": [
    "# Strip() removes Spaces \n",
    "file_name = ' Python '\n",
    "print(file_name.lstrip())\n",
    "print(file_name.rstrip())\n",
    "print(file_name.strip())"
   ]
  },
  {
   "cell_type": "code",
   "execution_count": 8,
   "metadata": {},
   "outputs": [
    {
     "name": "stdout",
     "output_type": "stream",
     "text": [
      "Fruits :\n",
      "\tApple \n",
      "\tApple \n",
      "\tMango \n"
     ]
    }
   ],
   "source": [
    "print('Fruits :\\n\\tApple \\n\\tApple \\n\\tMango ')"
   ]
  },
  {
   "cell_type": "code",
   "execution_count": 13,
   "metadata": {},
   "outputs": [
    {
     "name": "stdout",
     "output_type": "stream",
     "text": [
      "['Python', 'Html', 'Java Script']\n",
      "['Python', 'Html', 'Java Script', 'Sql']\n",
      "['Python', 'C', 'Html', 'Java Script', 'Sql']\n",
      "['Python', 'Html', 'Java Script', 'Sql']\n",
      "['Python', 'Html', 'Java Script']\n",
      "['Python', 'Java Script']\n",
      "['Python']\n",
      "['Python']\n",
      "[]\n"
     ]
    }
   ],
   "source": [
    "# List : mutable collection of items in a particular ordered\n",
    "languages = ['Python', 'Html', 'Java Script']\n",
    "print(languages)\n",
    " \n",
    "languages.append('Sql')  #Append\n",
    "print(languages)\n",
    "languages.insert(1, 'C') #Insert\n",
    "print(languages)\n",
    "del languages[1]         #Del\n",
    "print(languages)\n",
    "languages.pop()          #Pop\n",
    "print(languages)\n",
    "languages.pop(1)         #Pop at index\n",
    "print(languages)\n",
    "\n",
    "languages.remove('Java Script') #Remove\n",
    "print(languages)\n",
    "my_languages = languages.copy() #Copy\n",
    "print(languages)\n",
    "\n",
    "languages.clear()               #Clear\n",
    "print(languages)"
   ]
  },
  {
   "cell_type": "code",
   "execution_count": null,
   "metadata": {},
   "outputs": [],
   "source": []
  },
  {
   "cell_type": "code",
   "execution_count": null,
   "metadata": {},
   "outputs": [],
   "source": [
    "\n"
   ]
  },
  {
   "cell_type": "code",
   "execution_count": null,
   "metadata": {},
   "outputs": [],
   "source": []
  },
  {
   "cell_type": "code",
   "execution_count": null,
   "metadata": {},
   "outputs": [],
   "source": []
  }
 ],
 "metadata": {
  "kernelspec": {
   "display_name": "Python 3",
   "language": "python",
   "name": "python3"
  },
  "language_info": {
   "codemirror_mode": {
    "name": "ipython",
    "version": 3
   },
   "file_extension": ".py",
   "mimetype": "text/x-python",
   "name": "python",
   "nbconvert_exporter": "python",
   "pygments_lexer": "ipython3",
   "version": "3.7.3"
  }
 },
 "nbformat": 4,
 "nbformat_minor": 2
}
